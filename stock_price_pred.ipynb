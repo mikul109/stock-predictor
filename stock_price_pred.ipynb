{
 "cells": [
  {
   "cell_type": "markdown",
   "source": [
    "> # `Load the Libraries`"
   ],
   "metadata": {}
  },
  {
   "cell_type": "code",
   "execution_count": 19,
   "source": [
    "import math\r\n",
    "import matplotlib.pyplot as plt\r\n",
    "%matplotlib\r\n",
    "import keras\r\n",
    "import pandas as pd\r\n",
    "import numpy as np\r\n",
    "from keras.models import Sequential, load_model\r\n",
    "from keras.layers import Dense\r\n",
    "from keras.layers import LSTM\r\n",
    "from keras.layers import Dropout\r\n",
    "from keras.layers import *\r\n",
    "from sklearn.preprocessing import MinMaxScaler\r\n",
    "from sklearn.metrics import mean_squared_error\r\n",
    "from sklearn.metrics import mean_absolute_error\r\n",
    "from sklearn.model_selection import train_test_split\r\n",
    "from keras.callbacks import EarlyStopping\r\n",
    "import yfinance as yf"
   ],
   "outputs": [
    {
     "output_type": "stream",
     "name": "stdout",
     "text": [
      "Using matplotlib backend: Qt5Agg\n"
     ]
    }
   ],
   "metadata": {}
  },
  {
   "cell_type": "markdown",
   "source": [
    "> # `Input Desired Stock Ticker and Time Period `"
   ],
   "metadata": {}
  },
  {
   "cell_type": "code",
   "execution_count": 20,
   "source": [
    "ticker = \"MSFT\"\r\n",
    "period = \"5y\"\r\n",
    "\r\n",
    "# get market data from Yahoo Finance\r\n",
    "stock = yf.Ticker(ticker)\r\n",
    "df = stock.history(period=period)\r\n",
    "df = df.reset_index()\r\n",
    "for i in ['Open', 'High', 'Close', 'Low']: \r\n",
    "      df[i]  =  df[i].astype('float64')\r\n",
    "\r\n",
    "df.head(5)"
   ],
   "outputs": [
    {
     "output_type": "execute_result",
     "data": {
      "text/html": [
       "<div>\n",
       "<style scoped>\n",
       "    .dataframe tbody tr th:only-of-type {\n",
       "        vertical-align: middle;\n",
       "    }\n",
       "\n",
       "    .dataframe tbody tr th {\n",
       "        vertical-align: top;\n",
       "    }\n",
       "\n",
       "    .dataframe thead th {\n",
       "        text-align: right;\n",
       "    }\n",
       "</style>\n",
       "<table border=\"1\" class=\"dataframe\">\n",
       "  <thead>\n",
       "    <tr style=\"text-align: right;\">\n",
       "      <th></th>\n",
       "      <th>Date</th>\n",
       "      <th>Open</th>\n",
       "      <th>High</th>\n",
       "      <th>Low</th>\n",
       "      <th>Close</th>\n",
       "      <th>Volume</th>\n",
       "      <th>Dividends</th>\n",
       "      <th>Stock Splits</th>\n",
       "    </tr>\n",
       "  </thead>\n",
       "  <tbody>\n",
       "    <tr>\n",
       "      <th>0</th>\n",
       "      <td>2016-09-28</td>\n",
       "      <td>53.552246</td>\n",
       "      <td>53.718788</td>\n",
       "      <td>53.357946</td>\n",
       "      <td>53.691029</td>\n",
       "      <td>20536400</td>\n",
       "      <td>0.0</td>\n",
       "      <td>0</td>\n",
       "    </tr>\n",
       "    <tr>\n",
       "      <th>1</th>\n",
       "      <td>2016-09-29</td>\n",
       "      <td>53.487483</td>\n",
       "      <td>53.820562</td>\n",
       "      <td>52.932343</td>\n",
       "      <td>53.108139</td>\n",
       "      <td>25463500</td>\n",
       "      <td>0.0</td>\n",
       "      <td>0</td>\n",
       "    </tr>\n",
       "    <tr>\n",
       "      <th>2</th>\n",
       "      <td>2016-09-30</td>\n",
       "      <td>53.265419</td>\n",
       "      <td>53.450465</td>\n",
       "      <td>53.052617</td>\n",
       "      <td>53.293175</td>\n",
       "      <td>29910800</td>\n",
       "      <td>0.0</td>\n",
       "      <td>0</td>\n",
       "    </tr>\n",
       "    <tr>\n",
       "      <th>3</th>\n",
       "      <td>2016-10-03</td>\n",
       "      <td>53.117374</td>\n",
       "      <td>53.246906</td>\n",
       "      <td>52.793546</td>\n",
       "      <td>53.126625</td>\n",
       "      <td>19189500</td>\n",
       "      <td>0.0</td>\n",
       "      <td>0</td>\n",
       "    </tr>\n",
       "    <tr>\n",
       "      <th>4</th>\n",
       "      <td>2016-10-04</td>\n",
       "      <td>52.987850</td>\n",
       "      <td>53.293174</td>\n",
       "      <td>52.710282</td>\n",
       "      <td>52.960094</td>\n",
       "      <td>20085900</td>\n",
       "      <td>0.0</td>\n",
       "      <td>0</td>\n",
       "    </tr>\n",
       "  </tbody>\n",
       "</table>\n",
       "</div>"
      ],
      "text/plain": [
       "        Date       Open       High        Low      Close    Volume  Dividends  \\\n",
       "0 2016-09-28  53.552246  53.718788  53.357946  53.691029  20536400        0.0   \n",
       "1 2016-09-29  53.487483  53.820562  52.932343  53.108139  25463500        0.0   \n",
       "2 2016-09-30  53.265419  53.450465  53.052617  53.293175  29910800        0.0   \n",
       "3 2016-10-03  53.117374  53.246906  52.793546  53.126625  19189500        0.0   \n",
       "4 2016-10-04  52.987850  53.293174  52.710282  52.960094  20085900        0.0   \n",
       "\n",
       "   Stock Splits  \n",
       "0             0  \n",
       "1             0  \n",
       "2             0  \n",
       "3             0  \n",
       "4             0  "
      ]
     },
     "metadata": {},
     "execution_count": 20
    }
   ],
   "metadata": {}
  },
  {
   "cell_type": "code",
   "execution_count": 21,
   "source": [
    "# split data into into training and test. about 2/3 to train and 1/3 to test. Want to predict closing price\r\n",
    "training_set = df.iloc[:math.floor(len(df)*(2/3)), 1:2].values\r\n",
    "test_set = df.iloc[math.floor(len(df)*(1/3)):, 1:2].values"
   ],
   "outputs": [],
   "metadata": {}
  },
  {
   "cell_type": "markdown",
   "source": [
    "> # `Model uses 60 days to predict one day`"
   ],
   "metadata": {}
  },
  {
   "cell_type": "code",
   "execution_count": 22,
   "source": [
    "# with time lag 1\r\n",
    "# scale values to fit into 0,1\r\n",
    "sc = MinMaxScaler(feature_range = (0, 1))\r\n",
    "training_set_scaled = sc.fit_transform(training_set)\r\n",
    "# 60 time-steps and 1 output\r\n",
    "X_train = []\r\n",
    "y_train = []\r\n",
    "for i in range(60, len(training_set_scaled)):\r\n",
    "    X_train.append(training_set_scaled[i-60:i, 0])\r\n",
    "    y_train.append(training_set_scaled[i, 0])\r\n",
    "X_train, y_train = np.array(X_train), np.array(y_train)\r\n",
    "X_train = np.reshape(X_train, (X_train.shape[0], X_train.shape[1], 1))\r\n"
   ],
   "outputs": [],
   "metadata": {}
  },
  {
   "cell_type": "markdown",
   "source": [
    "> # `Build, Train, and Save the Model. Takes time, depending on epochs and batch size`"
   ],
   "metadata": {}
  },
  {
   "cell_type": "code",
   "execution_count": 23,
   "source": [
    "# model = Sequential()\r\n",
    "# # first LSTM layer \r\n",
    "# model.add(LSTM(units = 50, return_sequences = True, input_shape = (X_train.shape[1], 1)))\r\n",
    "# model.add(Dropout(0.2))\r\n",
    "# # second LSTM layer\r\n",
    "# model.add(LSTM(units = 50, return_sequences = True))\r\n",
    "# model.add(Dropout(0.2))\r\n",
    "# # third LSTM layer\r\n",
    "# model.add(LSTM(units = 50, return_sequences = True))\r\n",
    "# model.add(Dropout(0.2))\r\n",
    "# # fourth LSTM layer \r\n",
    "# model.add(LSTM(units = 50))\r\n",
    "# model.add(Dropout(0.2))\r\n",
    "# # output layer\r\n",
    "# model.add(Dense(units = 1))\r\n",
    "\r\n",
    "# # compiling RNN\r\n",
    "# model.compile(optimizer = 'adam', loss = 'mean_squared_error')\r\n",
    "\r\n",
    "# # fit RNN to training data\r\n",
    "# model.fit(X_train, y_train, epochs = 100, batch_size = 32)\r\n",
    "\r\n",
    "# model.save('stock_prediction.h5')"
   ],
   "outputs": [],
   "metadata": {}
  },
  {
   "cell_type": "code",
   "execution_count": 24,
   "source": [
    "# reshape test data\r\n",
    "model = load_model('stock_prediction.h5')\r\n",
    "\r\n",
    "dataset_train = df.iloc[:len(training_set_scaled), 1:2]\r\n",
    "dataset_test = df.iloc[len(training_set_scaled):, 1:2]\r\n",
    "dataset_total = pd.concat((dataset_train, dataset_test), axis = 0)\r\n",
    "inputs = dataset_total[len(dataset_total) - len(dataset_test) - 60:].values\r\n",
    "inputs = inputs.reshape(-1,1)\r\n",
    "inputs = sc.transform(inputs)\r\n",
    "X_test = []\r\n",
    "for i in range(60, len(inputs)):\r\n",
    "    X_test.append(inputs[i-60:i, 0])\r\n",
    "X_test = np.array(X_test)\r\n",
    "X_test = np.reshape(X_test, (X_test.shape[0], X_test.shape[1], 1))\r\n"
   ],
   "outputs": [],
   "metadata": {}
  },
  {
   "cell_type": "code",
   "execution_count": 25,
   "source": [
    "# make predictions using the test data\r\n",
    "predicted_stock_price = model.predict(X_test)\r\n",
    "predicted_stock_price = sc.inverse_transform(predicted_stock_price)"
   ],
   "outputs": [],
   "metadata": {}
  },
  {
   "cell_type": "markdown",
   "source": [
    "> # `Prediction for the Next Day`"
   ],
   "metadata": {}
  },
  {
   "cell_type": "code",
   "execution_count": 26,
   "source": [
    "# forecast next day\r\n",
    "actual = [inputs[len(inputs) + 1 - 60:len(inputs)]]\r\n",
    "actual = np.array(actual)\r\n",
    "actual = np.reshape(actual, (actual.shape[0], actual.shape[1],1))\r\n",
    "\r\n",
    "forecast = model.predict(actual)\r\n",
    "forecast = sc.inverse_transform(forecast)\r\n",
    "\r\n",
    "current_price = df[\"Close\"].iloc[-1]\r\n",
    "print(f\"The current price of {ticker} is: {current_price}\")\r\n",
    "print(f\"The predicted price of {ticker} for next day is: {float(forecast)}\")"
   ],
   "outputs": [
    {
     "output_type": "stream",
     "name": "stdout",
     "text": [
      "WARNING:tensorflow:Model was constructed with shape (None, 60, 1) for input KerasTensor(type_spec=TensorSpec(shape=(None, 60, 1), dtype=tf.float32, name='lstm_input'), name='lstm_input', description=\"created by layer 'lstm_input'\"), but it was called on an input with incompatible shape (None, 59, 1).\n",
      "The current price of MSFT is: 294.1700134277344\n",
      "The predicted price of MSFT for next day is: 284.3259582519531\n"
     ]
    }
   ],
   "metadata": {}
  },
  {
   "cell_type": "markdown",
   "source": [
    "> # `Opens the plot in a new window`"
   ],
   "metadata": {}
  },
  {
   "cell_type": "code",
   "execution_count": 27,
   "source": [
    "# Visualising the results\r\n",
    "plt.plot(df.loc[len(training_set_scaled):, \"Date\"],dataset_test.values, color = \"red\", label = \"Real Stock Price\")\r\n",
    "plt.plot(df.loc[len(training_set_scaled):, \"Date\"],predicted_stock_price, color = \"cyan\", label = \"Predicted Stock Price\")\r\n",
    "plt.title(f\"{ticker} Stock Price Prediction\")\r\n",
    "plt.xlabel('Date')\r\n",
    "plt.ylabel('Stock Price')\r\n",
    "plt.legend()\r\n",
    "plt.show()"
   ],
   "outputs": [],
   "metadata": {}
  }
 ],
 "metadata": {
  "orig_nbformat": 4,
  "language_info": {
   "name": "python",
   "version": "3.8.11",
   "mimetype": "text/x-python",
   "codemirror_mode": {
    "name": "ipython",
    "version": 3
   },
   "pygments_lexer": "ipython3",
   "nbconvert_exporter": "python",
   "file_extension": ".py"
  },
  "kernelspec": {
   "name": "python3",
   "display_name": "Python 3.8.11 64-bit ('base': conda)"
  },
  "interpreter": {
   "hash": "2bdbbe8d3ec165889bccb7a44cf4832b4a380e63b0b143c1c6b74ec13c7e9a2e"
  }
 },
 "nbformat": 4,
 "nbformat_minor": 2
}